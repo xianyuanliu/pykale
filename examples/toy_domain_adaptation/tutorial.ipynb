{
 "cells": [
  {
   "cell_type": "markdown",
   "id": "73cb63d5",
   "metadata": {},
   "source": [
    "# PyKale Tutorial: Domain Adaptation on Toy Data\n",
    "| [Open in Colab](https://colab.research.google.com/github/sz144/pykale/blob/brain-example/examples/toy_domain_adaptation/tutorial.ipynb) (click `Runtime` → `Run all (Ctrl+F9)` |  [Launch Binder](https://mybinder.org/v2/gh/sz144/pykale/HEAD?filepath=examples%2Ftoy_domain_adaptation%2Ftutorial.ipynb) (click `Run` → `Run All Cells`) |"
   ]
  },
  {
   "cell_type": "markdown",
   "id": "aede3243",
   "metadata": {},
   "source": [
    "### Setup"
   ]
  },
  {
   "cell_type": "code",
   "execution_count": 2,
   "id": "ebd39507",
   "metadata": {},
   "outputs": [],
   "source": [
    "# import seaborn first to avoid seaborn import error caused by newer scipy version, to be solved later\n",
    "import seaborn as sns"
   ]
  },
  {
   "cell_type": "code",
   "execution_count": null,
   "id": "771b7124",
   "metadata": {},
   "outputs": [],
   "source": [
    "if 'google.colab' in str(get_ipython()):\n",
    "    print('Running on CoLab')\n",
    "    !pip uninstall --yes imgaug && pip uninstall --yes albumentations && pip install git+https://github.com/aleju/imgaug.git\n",
    "    !pip install seaborn\n",
    "    !pip install git+https://github.com/sz144/pykale.git@brain-example\n",
    "    !git clone -b brain-example https://github.com/sz144/pykale.git\n",
    "    %cd pykale/examples/toy_domain_adaptation\n",
    "else:\n",
    "    print('Not running on CoLab')"
   ]
  },
  {
   "cell_type": "markdown",
   "id": "57b52723",
   "metadata": {},
   "source": [
    "### Generate toy data"
   ]
  },
  {
   "cell_type": "code",
   "execution_count": 1,
   "id": "61582582",
   "metadata": {},
   "outputs": [],
   "source": [
    "%matplotlib inline\n",
    "import matplotlib.pyplot as plt\n",
    "import numpy as np\n",
    "\n",
    "from sklearn.datasets import make_moons, make_blobs"
   ]
  },
  {
   "cell_type": "code",
   "execution_count": null,
   "id": "3d7ed283",
   "metadata": {},
   "outputs": [],
   "source": [
    "n_samples = 1000\n",
    "\n",
    "xs, ys = make_blobs(n_samples, centers=[[0, 0], [0, 2]], cluster_std=[0.3, 0.35])\n",
    "xt, yt = make_blobs(n_samples, centers=[[2, -2], [2, 0.2]], cluster_std=[0.35, 0.4])"
   ]
  },
  {
   "cell_type": "code",
   "execution_count": null,
   "id": "dc371f25",
   "metadata": {},
   "outputs": [],
   "source": [
    "colors = [\"c\", \"m\"]\n",
    "x_all = [xs, xt]\n",
    "y_all = [ys, yt]\n",
    "labels = [\"source\", \"Target\"]\n",
    "for i in range(2):\n",
    "    idx_pos = np.where(y_all[i] == 1)\n",
    "    idx_neg = np.where(y_all[i] == 0)\n",
    "    plt.scatter(x_all[i][idx_pos, 0], x_all[i][idx_pos, 1], c=colors[i], marker=\"o\", alpha=0.4, \n",
    "                label=labels[i] + \" positive\")\n",
    "    plt.scatter(x_all[i][idx_neg, 0], x_all[i][idx_neg, 1], c=colors[i], marker=\"x\", alpha=0.4, \n",
    "                label=labels[i] + \" negative\")\n",
    "plt.legend()\n",
    "plt.title('Source domain and target domain blobs data',fontsize=14,fontweight='bold')"
   ]
  },
  {
   "cell_type": "markdown",
   "id": "dea7787b",
   "metadata": {},
   "source": [
    "### Classification"
   ]
  },
  {
   "cell_type": "code",
   "execution_count": null,
   "id": "41607742",
   "metadata": {},
   "outputs": [],
   "source": [
    "from sklearn.preprocessing import OneHotEncoder\n",
    "from sklearn.linear_model import RidgeClassifier\n",
    "from sklearn.metrics import accuracy_score\n",
    "from kale.pipeline.multi_domain_adapter import _CoIRLS"
   ]
  },
  {
   "cell_type": "markdown",
   "id": "85769302",
   "metadata": {},
   "source": [
    "#### Training a standard Ridge classifier"
   ]
  },
  {
   "cell_type": "code",
   "execution_count": null,
   "id": "681c00ac",
   "metadata": {},
   "outputs": [],
   "source": [
    "clf = RidgeClassifier(alpha=1.0)\n",
    "clf.fit(xs, ys)\n",
    "\n",
    "yt_pred = clf.predict(xt)\n",
    "print('Accuracy on target domain: {:.2f}'.format(accuracy_score(yt, yt_pred)))"
   ]
  },
  {
   "cell_type": "code",
   "execution_count": null,
   "id": "5253fcbc",
   "metadata": {},
   "outputs": [],
   "source": [
    "def plot_scores_dist(ys_score, yt_score, title=None):\n",
    "    plt.figure(figsize=(8, 5))\n",
    "    sns.histplot(ys_score, color=\"c\", label=\"Source\", kde=True)\n",
    "    sns.histplot(yt_score, color=\"m\", label=\"Target\", kde=True)\n",
    "    plt.xlabel(\"Decision Scores\")\n",
    "    plt.legend()\n",
    "    if title is not None:\n",
    "        plt.title(title, fontsize=14, fontweight=\"bold\")\n",
    "    plt.show()"
   ]
  },
  {
   "cell_type": "code",
   "execution_count": null,
   "id": "cfc2a82d",
   "metadata": {},
   "outputs": [],
   "source": [
    "ys_score = clf.decision_function(xs)\n",
    "yt_score = clf.decision_function(xt)\n",
    "\n",
    "title = \"Ridge classifier decision score distribution\"\n",
    "plot_scores_dist(ys_score, yt_score, title)"
   ]
  },
  {
   "cell_type": "markdown",
   "id": "2bb477cc",
   "metadata": {},
   "source": [
    "#### Training a domain adaptation classifier"
   ]
  },
  {
   "cell_type": "code",
   "execution_count": null,
   "id": "1bd49414",
   "metadata": {},
   "outputs": [],
   "source": [
    "clf_ = _CoIRLS()\n",
    "# encoding one-hot domain covariate matrix\n",
    "covariates = np.zeros(n_samples * 2)\n",
    "covariates[:n_samples] = 1\n",
    "enc = OneHotEncoder(handle_unknown=\"ignore\")\n",
    "covariates_mat = enc.fit_transform(covariates.reshape(-1, 1)).toarray()"
   ]
  },
  {
   "cell_type": "code",
   "execution_count": null,
   "id": "4ba2cc5d",
   "metadata": {},
   "outputs": [],
   "source": [
    "x = np.concatenate((xs, xt))\n",
    "clf_.fit(x, ys, covariates_mat)\n",
    "yt_pred_ = clf_.predict(xt)\n",
    "print(\"Accuracy on target domain: {:.2f}\".format(accuracy_score(yt, yt_pred_)))"
   ]
  },
  {
   "cell_type": "code",
   "execution_count": null,
   "id": "4afdbb4c",
   "metadata": {},
   "outputs": [],
   "source": [
    "ys_score_ = clf_.decision_function(xs).detach().numpy().reshape(-1)\n",
    "yt_score_ = clf_.decision_function(xt).detach().numpy().reshape(-1)\n",
    "plt.figure(figsize=(10, 5))\n",
    "title = \"Domain adaptation classifier decision score distribution\"\n",
    "plot_scores_dist(ys_score_, yt_score_, title)"
   ]
  }
 ],
 "metadata": {
  "kernelspec": {
   "display_name": "Python 3 (ipykernel)",
   "language": "python",
   "name": "python3"
  },
  "language_info": {
   "codemirror_mode": {
    "name": "ipython",
    "version": 3
   },
   "file_extension": ".py",
   "mimetype": "text/x-python",
   "name": "python",
   "nbconvert_exporter": "python",
   "pygments_lexer": "ipython3",
   "version": "3.9.7"
  }
 },
 "nbformat": 4,
 "nbformat_minor": 5
}
