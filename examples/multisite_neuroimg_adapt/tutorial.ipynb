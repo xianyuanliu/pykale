{
  "nbformat": 4,
  "nbformat_minor": 5,
  "metadata": {},
  "cells": [
    {
      "metadata": {},
      "source": [
        "# PyKale Tutorial: Domain Adaptation for Autism Detection with Multi-site Brain Imaging Data\n",
        "| [Open in Colab](https://colab.research.google.com/github/pykale/pykale/blob/main/examples/multisite_neuroimg_adapt/tutorial.ipynb) (click `Runtime`\u2006\u2192\u2006`Run all (Ctrl+F9)` |  [Launch Binder](https://mybinder.org/v2/gh/pykale/pykale/HEAD?filepath=examples%2Fmultisite_neuroimg_adapt%2Ftutorial.ipynb) (click `Run`\u2006\u2192\u2006`Run All Cells`) |"
      ],
      "cell_type": "markdown"
    },
    {
      "metadata": {},
      "source": [
        "## Overview\n",
        "\n",
        "- Pre-processing:\n",
        "    - [Data loading](#Data-Preparation)\n",
        "    - [Construct brain networks](#Extracting-Brain-Networks-Features)\n",
        "- Machine learning pipeline:\n",
        "    - [Baseline: Ridge classifier](#Baseline)\n",
        "    - [Domain adaptation](#Domain-Adaptation)\n",
        "\n",
        "**Reference:**\n",
        "\n",
        "[1] Cameron Craddock, Yassine Benhajali, Carlton Chu, Francois Chouinard, Alan Evans, Andr\u00e1s Jakab, Budhachandra Singh Khundrakpam, John David Lewis, Qingyang Li, Michael Milham, Chaogan Yan, Pierre Bellec (2013). The Neuro Bureau Preprocessing Initiative: open sharing of preprocessed neuroimaging data and derivatives. In *Neuroinformatics 2013*, Stockholm, Sweden.\n",
        "\n",
        "[2] Abraham, A., Pedregosa, F., Eickenberg, M., Gervais, P., Mueller, A., Kossaifi, J., ... & Varoquaux, G. (2014). Machine learning for neuroimaging with scikit-learn. *Frontiers in neuroinformatics*, 14.\n",
        "\n",
        "[3] Zhou, S., Li, W., Cox, C.R., & Lu, H. (2020). [Side Information Dependence as a Regularizer for Analyzing Human Brain Conditions across Cognitive Experiments](https://ojs.aaai.org//index.php/AAAI/article/view/6179). in *AAAI 2020*, New York, USA. \n",
        "\n",
        "[4] Zhou, S. (2022). [Interpretable Domain-Aware Learning for Neuroimage Classification](https://etheses.whiterose.ac.uk/31044/1/PhD_thesis_ShuoZhou_170272834.pdf) (Doctoral dissertation, University of Sheffield)."
      ],
      "cell_type": "markdown"
    },
    {
      "metadata": {},
      "source": [
        "## Setup"
      ],
      "cell_type": "markdown"
    },
    {
      "metadata": {},
      "source": [
        "if 'google.colab' in str(get_ipython()):\n",
        "    print('Running on CoLab')\n",
        "    !pip uninstall --yes imgaug && pip uninstall --yes albumentations && pip install git+https://github.com/aleju/imgaug.git\n",
        "    !git clone https://github.com/pykale/pykale.git\n",
        "    %cd pykale\n",
        "    !pip install .[image,example] \n",
        "    %cd examples/multisite_neuroimg_adapt\n",
        "else:\n",
        "    print('Not running on CoLab')"
      ],
      "cell_type": "code",
      "outputs": [],
      "execution_count": null
    },
    {
      "metadata": {},
      "source": [
        "This imports required modules."
      ],
      "cell_type": "markdown"
    },
    {
      "metadata": {},
      "source": [
        "import os\n",
        "\n",
        "%matplotlib inline\n",
        "import matplotlib.pyplot as plt\n",
        "import numpy as np\n",
        "from nilearn.datasets import fetch_abide_pcp\n",
        "import pandas as pd\n",
        "from config import get_cfg_defaults\n",
        "\n",
        "import sys\n",
        "\n",
        "from kale.utils.download import download_file_by_url\n",
        "from kale.interpret import visualize"
      ],
      "cell_type": "code",
      "outputs": [],
      "execution_count": null
    },
    {
      "metadata": {},
      "source": [
        "cfg_path = \"configs/tutorial.yaml\" # Path to `.yaml` config file\n",
        "\n",
        "cfg = get_cfg_defaults()\n",
        "cfg.merge_from_file(cfg_path)\n",
        "cfg.freeze()\n",
        "print(cfg)"
      ],
      "cell_type": "code",
      "outputs": [],
      "execution_count": null
    },
    {
      "metadata": {},
      "source": [
        "## Data Preparation\n",
        "\n",
        "### Fetch ABIDE fMRI timeseries"
      ],
      "cell_type": "markdown"
    },
    {
      "metadata": {},
      "source": [
        "root_dir = cfg.DATASET.ROOT\n",
        "pipeline = cfg.DATASET.PIPELINE  # fmri pre-processing pipeline\n",
        "atlas = cfg.DATASET.ATLAS\n",
        "site_ids = cfg.DATASET.SITE_IDS\n",
        "abide = fetch_abide_pcp(data_dir=root_dir, pipeline=pipeline, \n",
        "                        band_pass_filtering=True, global_signal_regression=False, \n",
        "                        derivatives=atlas, quality_checked=False,\n",
        "                        SITE_ID=site_ids, \n",
        "                        verbose=0)"
      ],
      "cell_type": "code",
      "outputs": [],
      "execution_count": null
    },
    {
      "metadata": {},
      "source": [
        "### Read Phenotypic data"
      ],
      "cell_type": "markdown"
    },
    {
      "metadata": {},
      "source": [
        "pheno_file = os.path.join(cfg.DATASET.ROOT, \"ABIDE_pcp/Phenotypic_V1_0b_preprocessed1.csv\")\n",
        "pheno_info = pd.read_csv(pheno_file, index_col=0)"
      ],
      "cell_type": "code",
      "outputs": [],
      "execution_count": null
    },
    {
      "metadata": {},
      "source": [
        "View Phenotypic data"
      ],
      "cell_type": "markdown"
    },
    {
      "metadata": {},
      "source": [
        "pheno_info.head()"
      ],
      "cell_type": "code",
      "outputs": [],
      "execution_count": null
    },
    {
      "metadata": {},
      "source": [
        "### Read timeseries from files"
      ],
      "cell_type": "markdown"
    },
    {
      "metadata": {},
      "source": [
        "data_dir = os.path.join(root_dir, \"ABIDE_pcp/%s/filt_noglobal\" % pipeline)\n",
        "use_idx = []\n",
        "time_series = []\n",
        "for i in pheno_info.index:\n",
        "    data_file_name = \"%s_%s.1D\" % (pheno_info.loc[i, \"FILE_ID\"], atlas)\n",
        "    data_path = os.path.join(data_dir, data_file_name)\n",
        "    if os.path.exists(data_path):\n",
        "        time_series.append(np.loadtxt(data_path, skiprows=0))\n",
        "        use_idx.append(i)"
      ],
      "cell_type": "code",
      "outputs": [],
      "execution_count": null
    },
    {
      "metadata": {},
      "source": [
        "Use \"DX_GROUP\" (autism vs control) as labels, and \"SITE_ID\" as covariates"
      ],
      "cell_type": "markdown"
    },
    {
      "metadata": {},
      "source": [
        "pheno = pheno_info.loc[use_idx, [\"SITE_ID\", \"DX_GROUP\"]].reset_index(drop=True)"
      ],
      "cell_type": "code",
      "outputs": [],
      "execution_count": null
    },
    {
      "metadata": {},
      "source": [
        "## Extracting Brain Networks Features"
      ],
      "cell_type": "markdown"
    },
    {
      "metadata": {},
      "source": [
        "from nilearn.connectome import ConnectivityMeasure\n",
        "\n",
        "correlation_measure = ConnectivityMeasure(kind='correlation', vectorize=True)\n",
        "brain_networks = correlation_measure.fit_transform(time_series)"
      ],
      "cell_type": "code",
      "outputs": [],
      "execution_count": null
    },
    {
      "metadata": {},
      "source": [
        "## Machine Learning for Multi-site Data\n",
        "\n",
        "### Cross validation Pipeline"
      ],
      "cell_type": "markdown"
    },
    {
      "metadata": {},
      "source": [
        "from sklearn.metrics import accuracy_score\n",
        "from sklearn.preprocessing import OneHotEncoder\n",
        "import torch\n",
        "\n",
        "def cross_validation(x, y, covariates, estimator, domain_adaptation=False):\n",
        "    results = {\"Target\": [], \"Num_samples\": [], \"Accuracy\": []}\n",
        "    unique_covariates = np.unique(covariates)\n",
        "    n_covariates = len(unique_covariates)\n",
        "    enc = OneHotEncoder(handle_unknown=\"ignore\")\n",
        "    covariate_mat = enc.fit_transform(covariates.reshape(-1, 1)).toarray()\n",
        "    \n",
        "    for tgt in unique_covariates:\n",
        "        idx_tgt = np.where(covariates == tgt)\n",
        "        idx_src = np.where(covariates != tgt)\n",
        "        x_tgt = brain_networks[idx_tgt]\n",
        "        x_src = brain_networks[idx_src]\n",
        "        y_tgt = y[idx_tgt]\n",
        "        y_src = y[idx_src]        \n",
        "        \n",
        "        if domain_adaptation:\n",
        "            estimator.fit(np.concatenate((x_src, x_tgt)), y_src, \n",
        "                          np.concatenate((covariate_mat[idx_src], covariate_mat[idx_tgt])))\n",
        "        else:            \n",
        "            estimator.fit(x_src, y_src)\n",
        "        y_pred = estimator.predict(x_tgt)\n",
        "        results[\"Accuracy\"].append(accuracy_score(y_tgt, y_pred))\n",
        "        results[\"Target\"].append(tgt)\n",
        "        results[\"Num_samples\"].append(x_tgt.shape[0])\n",
        "    \n",
        "    mean_acc = sum([results[\"Num_samples\"][i] * results[\"Accuracy\"][i] for i in range(n_covariates)])\n",
        "    mean_acc /= x.shape[0]\n",
        "    results[\"Target\"].append(\"Average\")\n",
        "    results[\"Num_samples\"].append(x.shape[0])\n",
        "    results[\"Accuracy\"].append(mean_acc)\n",
        "    \n",
        "    return pd.DataFrame(results)"
      ],
      "cell_type": "code",
      "outputs": [],
      "execution_count": null
    },
    {
      "metadata": {},
      "source": [
        "### Baseline"
      ],
      "cell_type": "markdown"
    },
    {
      "metadata": {},
      "source": [
        "from sklearn.linear_model import RidgeClassifier\n",
        "\n",
        "estimator = RidgeClassifier()\n",
        "res_df = cross_validation(brain_networks, pheno[\"DX_GROUP\"].values, pheno[\"SITE_ID\"].values, estimator)"
      ],
      "cell_type": "code",
      "outputs": [],
      "execution_count": null
    },
    {
      "metadata": {},
      "source": [
        "res_df"
      ],
      "cell_type": "code",
      "outputs": [],
      "execution_count": null
    },
    {
      "metadata": {},
      "source": [
        "### Domain Adaptation"
      ],
      "cell_type": "markdown"
    },
    {
      "metadata": {},
      "source": [
        "from kale.pipeline.multi_domain_adapter import CoIRLS\n",
        "estimator = CoIRLS(kernel=cfg.MODEL.KERNEL, lambda_=cfg.MODEL.LAMBDA_, alpha=cfg.MODEL.ALPHA)\n",
        "res_df = cross_validation(brain_networks, pheno[\"DX_GROUP\"].values, pheno[\"SITE_ID\"].values, \n",
        "                          estimator, domain_adaptation=True)"
      ],
      "cell_type": "code",
      "outputs": [],
      "execution_count": null
    },
    {
      "metadata": {},
      "source": [
        "res_df"
      ],
      "cell_type": "code",
      "outputs": [],
      "execution_count": null
    }
  ]
}
